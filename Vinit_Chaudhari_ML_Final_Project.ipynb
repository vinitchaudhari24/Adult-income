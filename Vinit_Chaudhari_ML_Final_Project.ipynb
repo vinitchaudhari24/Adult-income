{
 "cells": [
  {
   "cell_type": "code",
   "execution_count": 1,
   "id": "eb964690",
   "metadata": {},
   "outputs": [],
   "source": [
    "# Importing liabries\n",
    "import pandas as pd\n",
    "import numpy as np\n",
    "import matplotlib.pyplot as plt\n",
    "import seaborn as sns\n",
    "from sklearn.model_selection import train_test_split\n",
    "from sklearn import preprocessing\n",
    "from sklearn.preprocessing import StandardScaler\n",
    "from sklearn.decomposition import PCA\n",
    "from sklearn.metrics import classification_report, confusion_matrix\n",
    "from sklearn.metrics import accuracy_score\n",
    "from sklearn.neural_network import MLPClassifier\n",
    "from sklearn.linear_model import LogisticRegression\n",
    "from sklearn.linear_model import LinearRegression\n",
    "from sklearn.model_selection import train_test_split\n",
    "from sklearn.preprocessing import RobustScaler\n",
    "from sklearn.decomposition import TruncatedSVD\n",
    "from sklearn.naive_bayes import GaussianNB\n",
    "from sklearn.cluster import KMeans"
   ]
  },
  {
   "cell_type": "markdown",
   "id": "cf625d1f",
   "metadata": {},
   "source": [
    "# Part - A : Cleaning the data\n",
    "\n",
    "#### 1.\tImplement a sensible approach for dealing with the missing data.\n",
    "#### 2.\tChange all the values in the dataset into numerical values.\n",
    "#### 3.\tSubstitute dummy columns for the categorical variables\n",
    "#### 4.\tEliminate any columns from the data that may not be relevant to your objectives. \n",
    "\n"
   ]
  },
  {
   "cell_type": "code",
   "execution_count": 2,
   "id": "79b6aedb",
   "metadata": {
    "collapsed": true
   },
   "outputs": [
    {
     "data": {
      "text/html": [
       "<div>\n",
       "<style scoped>\n",
       "    .dataframe tbody tr th:only-of-type {\n",
       "        vertical-align: middle;\n",
       "    }\n",
       "\n",
       "    .dataframe tbody tr th {\n",
       "        vertical-align: top;\n",
       "    }\n",
       "\n",
       "    .dataframe thead th {\n",
       "        text-align: right;\n",
       "    }\n",
       "</style>\n",
       "<table border=\"1\" class=\"dataframe\">\n",
       "  <thead>\n",
       "    <tr style=\"text-align: right;\">\n",
       "      <th></th>\n",
       "      <th>age</th>\n",
       "      <th>workClass</th>\n",
       "      <th>Education</th>\n",
       "      <th>marital-status</th>\n",
       "      <th>occupation</th>\n",
       "      <th>race</th>\n",
       "      <th>sex</th>\n",
       "      <th>hours-per-week</th>\n",
       "      <th>Income</th>\n",
       "    </tr>\n",
       "  </thead>\n",
       "  <tbody>\n",
       "    <tr>\n",
       "      <th>0</th>\n",
       "      <td>39</td>\n",
       "      <td>State-gov</td>\n",
       "      <td>Bachelors</td>\n",
       "      <td>Never-married</td>\n",
       "      <td>Adm-clerical</td>\n",
       "      <td>White</td>\n",
       "      <td>Male</td>\n",
       "      <td>40</td>\n",
       "      <td>&lt;=50K</td>\n",
       "    </tr>\n",
       "    <tr>\n",
       "      <th>1</th>\n",
       "      <td>50</td>\n",
       "      <td>Self-emp-not-inc</td>\n",
       "      <td>Bachelors</td>\n",
       "      <td>Married-civ-spouse</td>\n",
       "      <td>Exec-managerial</td>\n",
       "      <td>White</td>\n",
       "      <td>Male</td>\n",
       "      <td>13</td>\n",
       "      <td>&lt;=50K</td>\n",
       "    </tr>\n",
       "    <tr>\n",
       "      <th>2</th>\n",
       "      <td>38</td>\n",
       "      <td>Private</td>\n",
       "      <td>HS-grad</td>\n",
       "      <td>Divorced</td>\n",
       "      <td>Handlers-cleaners</td>\n",
       "      <td>White</td>\n",
       "      <td>Male</td>\n",
       "      <td>40</td>\n",
       "      <td>&lt;=50K</td>\n",
       "    </tr>\n",
       "    <tr>\n",
       "      <th>3</th>\n",
       "      <td>53</td>\n",
       "      <td>Private</td>\n",
       "      <td>11th</td>\n",
       "      <td>Married-civ-spouse</td>\n",
       "      <td>Handlers-cleaners</td>\n",
       "      <td>Black</td>\n",
       "      <td>Male</td>\n",
       "      <td>40</td>\n",
       "      <td>&lt;=50K</td>\n",
       "    </tr>\n",
       "    <tr>\n",
       "      <th>4</th>\n",
       "      <td>28</td>\n",
       "      <td>Private</td>\n",
       "      <td>Bachelors</td>\n",
       "      <td>Married-civ-spouse</td>\n",
       "      <td>Prof-specialty</td>\n",
       "      <td>Black</td>\n",
       "      <td>Female</td>\n",
       "      <td>40</td>\n",
       "      <td>&lt;=50K</td>\n",
       "    </tr>\n",
       "    <tr>\n",
       "      <th>...</th>\n",
       "      <td>...</td>\n",
       "      <td>...</td>\n",
       "      <td>...</td>\n",
       "      <td>...</td>\n",
       "      <td>...</td>\n",
       "      <td>...</td>\n",
       "      <td>...</td>\n",
       "      <td>...</td>\n",
       "      <td>...</td>\n",
       "    </tr>\n",
       "    <tr>\n",
       "      <th>32556</th>\n",
       "      <td>27</td>\n",
       "      <td>Private</td>\n",
       "      <td>Assoc-acdm</td>\n",
       "      <td>Married-civ-spouse</td>\n",
       "      <td>Tech-support</td>\n",
       "      <td>White</td>\n",
       "      <td>Female</td>\n",
       "      <td>38</td>\n",
       "      <td>&lt;=50K</td>\n",
       "    </tr>\n",
       "    <tr>\n",
       "      <th>32557</th>\n",
       "      <td>40</td>\n",
       "      <td>Private</td>\n",
       "      <td>HS-grad</td>\n",
       "      <td>Married-civ-spouse</td>\n",
       "      <td>Machine-op-inspct</td>\n",
       "      <td>White</td>\n",
       "      <td>Male</td>\n",
       "      <td>40</td>\n",
       "      <td>&gt;50K</td>\n",
       "    </tr>\n",
       "    <tr>\n",
       "      <th>32558</th>\n",
       "      <td>58</td>\n",
       "      <td>Private</td>\n",
       "      <td>HS-grad</td>\n",
       "      <td>Widowed</td>\n",
       "      <td>Adm-clerical</td>\n",
       "      <td>White</td>\n",
       "      <td>Female</td>\n",
       "      <td>40</td>\n",
       "      <td>&lt;=50K</td>\n",
       "    </tr>\n",
       "    <tr>\n",
       "      <th>32559</th>\n",
       "      <td>22</td>\n",
       "      <td>Private</td>\n",
       "      <td>HS-grad</td>\n",
       "      <td>Never-married</td>\n",
       "      <td>Adm-clerical</td>\n",
       "      <td>White</td>\n",
       "      <td>Male</td>\n",
       "      <td>20</td>\n",
       "      <td>&lt;=50K</td>\n",
       "    </tr>\n",
       "    <tr>\n",
       "      <th>32560</th>\n",
       "      <td>52</td>\n",
       "      <td>Self-emp-inc</td>\n",
       "      <td>HS-grad</td>\n",
       "      <td>Married-civ-spouse</td>\n",
       "      <td>Exec-managerial</td>\n",
       "      <td>White</td>\n",
       "      <td>Female</td>\n",
       "      <td>40</td>\n",
       "      <td>&gt;50K</td>\n",
       "    </tr>\n",
       "  </tbody>\n",
       "</table>\n",
       "<p>32561 rows × 9 columns</p>\n",
       "</div>"
      ],
      "text/plain": [
       "       age          workClass    Education       marital-status  \\\n",
       "0       39          State-gov    Bachelors        Never-married   \n",
       "1       50   Self-emp-not-inc    Bachelors   Married-civ-spouse   \n",
       "2       38            Private      HS-grad             Divorced   \n",
       "3       53            Private         11th   Married-civ-spouse   \n",
       "4       28            Private    Bachelors   Married-civ-spouse   \n",
       "...    ...                ...          ...                  ...   \n",
       "32556   27            Private   Assoc-acdm   Married-civ-spouse   \n",
       "32557   40            Private      HS-grad   Married-civ-spouse   \n",
       "32558   58            Private      HS-grad              Widowed   \n",
       "32559   22            Private      HS-grad        Never-married   \n",
       "32560   52       Self-emp-inc      HS-grad   Married-civ-spouse   \n",
       "\n",
       "               occupation    race      sex  hours-per-week  Income  \n",
       "0            Adm-clerical   White     Male              40   <=50K  \n",
       "1         Exec-managerial   White     Male              13   <=50K  \n",
       "2       Handlers-cleaners   White     Male              40   <=50K  \n",
       "3       Handlers-cleaners   Black     Male              40   <=50K  \n",
       "4          Prof-specialty   Black   Female              40   <=50K  \n",
       "...                   ...     ...      ...             ...     ...  \n",
       "32556        Tech-support   White   Female              38   <=50K  \n",
       "32557   Machine-op-inspct   White     Male              40    >50K  \n",
       "32558        Adm-clerical   White   Female              40   <=50K  \n",
       "32559        Adm-clerical   White     Male              20   <=50K  \n",
       "32560     Exec-managerial   White   Female              40    >50K  \n",
       "\n",
       "[32561 rows x 9 columns]"
      ]
     },
     "execution_count": 2,
     "metadata": {},
     "output_type": "execute_result"
    }
   ],
   "source": [
    "#Importing data\n",
    "data = pd.read_csv(\"C:\\\\adult-entire dataset.csv\")\n",
    "data"
   ]
  },
  {
   "cell_type": "code",
   "execution_count": 3,
   "id": "3f838289",
   "metadata": {
    "collapsed": true
   },
   "outputs": [
    {
     "name": "stdout",
     "output_type": "stream",
     "text": [
      "<class 'pandas.core.frame.DataFrame'>\n",
      "RangeIndex: 32561 entries, 0 to 32560\n",
      "Data columns (total 9 columns):\n",
      " #   Column          Non-Null Count  Dtype \n",
      "---  ------          --------------  ----- \n",
      " 0   age             32561 non-null  int64 \n",
      " 1   workClass       32561 non-null  object\n",
      " 2   Education       32561 non-null  object\n",
      " 3   marital-status  32561 non-null  object\n",
      " 4   occupation      32561 non-null  object\n",
      " 5   race            32561 non-null  object\n",
      " 6   sex             32561 non-null  object\n",
      " 7   hours-per-week  32561 non-null  int64 \n",
      " 8   Income          32561 non-null  object\n",
      "dtypes: int64(2), object(7)\n",
      "memory usage: 2.2+ MB\n"
     ]
    }
   ],
   "source": [
    "data.info()"
   ]
  },
  {
   "cell_type": "code",
   "execution_count": 4,
   "id": "4fa95c66",
   "metadata": {
    "collapsed": true
   },
   "outputs": [
    {
     "data": {
      "text/html": [
       "<div>\n",
       "<style scoped>\n",
       "    .dataframe tbody tr th:only-of-type {\n",
       "        vertical-align: middle;\n",
       "    }\n",
       "\n",
       "    .dataframe tbody tr th {\n",
       "        vertical-align: top;\n",
       "    }\n",
       "\n",
       "    .dataframe thead th {\n",
       "        text-align: right;\n",
       "    }\n",
       "</style>\n",
       "<table border=\"1\" class=\"dataframe\">\n",
       "  <thead>\n",
       "    <tr style=\"text-align: right;\">\n",
       "      <th></th>\n",
       "      <th>age</th>\n",
       "      <th>hours-per-week</th>\n",
       "    </tr>\n",
       "  </thead>\n",
       "  <tbody>\n",
       "    <tr>\n",
       "      <th>count</th>\n",
       "      <td>32561.000000</td>\n",
       "      <td>32561.000000</td>\n",
       "    </tr>\n",
       "    <tr>\n",
       "      <th>mean</th>\n",
       "      <td>38.581647</td>\n",
       "      <td>40.437456</td>\n",
       "    </tr>\n",
       "    <tr>\n",
       "      <th>std</th>\n",
       "      <td>13.640433</td>\n",
       "      <td>12.347429</td>\n",
       "    </tr>\n",
       "    <tr>\n",
       "      <th>min</th>\n",
       "      <td>17.000000</td>\n",
       "      <td>1.000000</td>\n",
       "    </tr>\n",
       "    <tr>\n",
       "      <th>25%</th>\n",
       "      <td>28.000000</td>\n",
       "      <td>40.000000</td>\n",
       "    </tr>\n",
       "    <tr>\n",
       "      <th>50%</th>\n",
       "      <td>37.000000</td>\n",
       "      <td>40.000000</td>\n",
       "    </tr>\n",
       "    <tr>\n",
       "      <th>75%</th>\n",
       "      <td>48.000000</td>\n",
       "      <td>45.000000</td>\n",
       "    </tr>\n",
       "    <tr>\n",
       "      <th>max</th>\n",
       "      <td>90.000000</td>\n",
       "      <td>99.000000</td>\n",
       "    </tr>\n",
       "  </tbody>\n",
       "</table>\n",
       "</div>"
      ],
      "text/plain": [
       "                age  hours-per-week\n",
       "count  32561.000000    32561.000000\n",
       "mean      38.581647       40.437456\n",
       "std       13.640433       12.347429\n",
       "min       17.000000        1.000000\n",
       "25%       28.000000       40.000000\n",
       "50%       37.000000       40.000000\n",
       "75%       48.000000       45.000000\n",
       "max       90.000000       99.000000"
      ]
     },
     "execution_count": 4,
     "metadata": {},
     "output_type": "execute_result"
    }
   ],
   "source": [
    "data.describe()"
   ]
  },
  {
   "cell_type": "code",
   "execution_count": 5,
   "id": "2486fa7d",
   "metadata": {
    "collapsed": true
   },
   "outputs": [
    {
     "name": "stdout",
     "output_type": "stream",
     "text": [
      "Index(['age', 'workClass', 'Education', 'marital_status', 'occupation', 'race',\n",
      "       'sex', 'hours', 'Income'],\n",
      "      dtype='object')\n"
     ]
    }
   ],
   "source": [
    "data.rename(columns = {'marital-status':'marital_status', 'hours-per-week':'hours'}, inplace= True)\n",
    "print(data.columns)"
   ]
  },
  {
   "cell_type": "code",
   "execution_count": 6,
   "id": "98fd2adb",
   "metadata": {
    "collapsed": true
   },
   "outputs": [
    {
     "name": "stdout",
     "output_type": "stream",
     "text": [
      "\n",
      "Unique values in Age : [39 50 38 53 28 37 49 52 31 42 30 23 32 40 34 25 43 54 35 59 56 19 20 45\n",
      " 22 48 21 24 57 44 41 29 18 47 46 36 79 27 67 33 76 17 55 61 70 64 71 68\n",
      " 66 51 58 26 60 90 75 65 77 62 63 80 72 74 69 73 81 78 88 82 83 84 85 86\n",
      " 87]\n",
      " 73 unique elements\n",
      "\n",
      "Unique values in Workclass : \n",
      " [' State-gov' ' Self-emp-not-inc' ' Private' ' Federal-gov' ' Local-gov'\n",
      " ' ?' ' Self-emp-inc' ' Without-pay' ' Never-worked']\n",
      "\n",
      "Unique values in Education : \n",
      " [' Bachelors' ' HS-grad' ' 11th' ' Masters' ' 9th' ' Some-college'\n",
      " ' Assoc-acdm' ' Assoc-voc' ' 7th-8th' ' Doctorate' ' Prof-school'\n",
      " ' 5th-6th' ' 10th' ' 1st-4th' ' Preschool' ' 12th']\n",
      "\n",
      "Unique values in Marriage status : \n",
      " [' Never-married' ' Married-civ-spouse' ' Divorced'\n",
      " ' Married-spouse-absent' ' Separated' ' Married-AF-spouse' ' Widowed']\n",
      "\n",
      "Unique values in Occupation : \n",
      " [' Adm-clerical' ' Exec-managerial' ' Handlers-cleaners' ' Prof-specialty'\n",
      " ' Other-service' ' Sales' ' Craft-repair' ' Transport-moving'\n",
      " ' Farming-fishing' ' Machine-op-inspct' ' Tech-support' ' ?'\n",
      " ' Protective-serv' ' Armed-Forces' ' Priv-house-serv']\n",
      "\n",
      "Unique values in Race : \n",
      " [' White' ' Black' ' Asian-Pac-Islander' ' Amer-Indian-Eskimo' ' Other']\n",
      "\n",
      "Unique values in Sex : \n",
      " [' Male' ' Female']\n",
      "\n",
      "Unique values in Hour per week : \n",
      " [40 13 16 45 50 80 30 35 60 20 52 44 15 25 38 43 55 48 58 32 70  2 22 56\n",
      " 41 28 36 24 46 42 12 65  1 10 34 75 98 33 54  8  6 64 19 18 72  5  9 47\n",
      " 37 21 26 14  4 59  7 99 53 39 62 57 78 90 66 11 49 84  3 17 68 27 85 31\n",
      " 51 77 63 23 87 88 73 89 97 94 29 96 67 82 86 91 81 76 92 61 74 95]\n",
      "\n",
      "Unique values in Income : \n",
      " [' <=50K' ' >50K']\n",
      "\n",
      " We infer from this that columns: Workclass and Occupation have missing values in them \n",
      " \n"
     ]
    }
   ],
   "source": [
    "#Finding columns with null values or incorrect data.\n",
    "\n",
    "print(f\"\\nUnique values in Age : {data.age.unique()}\\n {len(data.age.unique())} unique elements\")\n",
    "print(\"\\nUnique values in Workclass : \\n\", data.workClass.unique())\n",
    "print(\"\\nUnique values in Education : \\n\", data.Education.unique())\n",
    "print(\"\\nUnique values in Marriage status : \\n\", data.marital_status.unique())\n",
    "print(\"\\nUnique values in Occupation : \\n\", data.occupation.unique())\n",
    "print(\"\\nUnique values in Race : \\n\", data.race.unique())\n",
    "print(\"\\nUnique values in Sex : \\n\", data.sex.unique())\n",
    "print(\"\\nUnique values in Hour per week : \\n\", data.hours.unique())\n",
    "print(\"\\nUnique values in Income : \\n\", data.Income.unique())\n",
    "print(\"\\n We infer from this that columns: Workclass and Occupation have missing values in them \\n \")"
   ]
  },
  {
   "cell_type": "code",
   "execution_count": 7,
   "id": "0ac64c6e",
   "metadata": {
    "collapsed": true
   },
   "outputs": [
    {
     "name": "stdout",
     "output_type": "stream",
     "text": [
      "Number of missing values in WorkClass column :  1836\n",
      "Number of missing values in Occupation column :  1843\n"
     ]
    }
   ],
   "source": [
    "print(\"Number of missing values in WorkClass column : \", data[\"workClass\"].value_counts()[\" ?\"])\n",
    "print(\"Number of missing values in Occupation column : \", data[\"occupation\"].value_counts()[\" ?\"])"
   ]
  },
  {
   "cell_type": "code",
   "execution_count": 8,
   "id": "ec81fb3e",
   "metadata": {},
   "outputs": [],
   "source": [
    "#OLD APPROACH\n",
    "\n",
    "#Finding which values occur the most in the above columns\n",
    "\n",
    "#print(\"private: \", data[\"workClass\"].value_counts()[' Private'])\n",
    "#print(\"prof speciality: \", data[\"occupation\"].value_counts()[' Prof-specialty'])\n",
    "#print(\"Since the missing values count for only 5% of the total data, we will replace the '?' with the value that occurs \\nthe most in the dataset\")\n",
    "\n",
    "\n",
    "# Replacing ? with most frequently occuring values in the dataset\n",
    "\n",
    "#data['workClass'].replace({' ?': ' Private'}, inplace=True)\n",
    "#data['occupation'].replace({' ?': ' Prof-specialty'}, inplace=True)"
   ]
  },
  {
   "cell_type": "code",
   "execution_count": 9,
   "id": "0d5b1f57",
   "metadata": {},
   "outputs": [],
   "source": [
    "# Converting numerical data to categorical data\n",
    "\n",
    "label_encoder = preprocessing.LabelEncoder()\n",
    "\n",
    "data['workClass'] = label_encoder.fit_transform(data['workClass'])\n",
    "data['occupation'] = label_encoder.fit_transform(data['occupation'])\n",
    "data['marital_status'] = label_encoder.fit_transform(data['marital_status'])\n",
    "data['Education'] = label_encoder.fit_transform(data['Education'])\n",
    "data['race'] = label_encoder.fit_transform(data['race'])\n",
    "data['sex'] = label_encoder.fit_transform(data['sex'])\n",
    "data['Income'] = label_encoder.fit_transform(data['Income'])"
   ]
  },
  {
   "cell_type": "code",
   "execution_count": 10,
   "id": "56b3b77f",
   "metadata": {
    "collapsed": true
   },
   "outputs": [
    {
     "name": "stderr",
     "output_type": "stream",
     "text": [
      "C:\\Users\\vchaudha\\anaconda3\\lib\\site-packages\\seaborn\\_decorators.py:36: FutureWarning: Pass the following variable as a keyword arg: x. From version 0.12, the only valid positional argument will be `data`, and passing other arguments without an explicit keyword will result in an error or misinterpretation.\n",
      "  warnings.warn(\n"
     ]
    },
    {
     "data": {
      "image/png": "[encoded data removed]",
      "text/plain": [
       "<Figure size 1800x800 with 1 Axes>"
      ]
     },
     "metadata": {},
     "output_type": "display_data"
    },
    {
     "name": "stderr",
     "output_type": "stream",
     "text": [
      "C:\\Users\\vchaudha\\anaconda3\\lib\\site-packages\\seaborn\\_decorators.py:36: FutureWarning: Pass the following variable as a keyword arg: x. From version 0.12, the only valid positional argument will be `data`, and passing other arguments without an explicit keyword will result in an error or misinterpretation.\n",
      "  warnings.warn(\n"
     ]
    },
    {
     "data": {
      "image/png": "[encoded data removed]",
      "text/plain": [
       "<Figure size 2000x800 with 1 Axes>"
      ]
     },
     "metadata": {},
     "output_type": "display_data"
    }
   ],
   "source": [
    "# %matplotlib inline\n",
    "# plt.bar(data[\"workClass\"],  )\n",
    "# plt.figure(figsize=(8,0))\n",
    "# plt.show()\n",
    "#y= sns.histplot(data=data[\"workClass\"],  bins=10)\n",
    "#plt.show()\n",
    "\n",
    "sns.set_style(\"whitegrid\")\n",
    "plt.figure(figsize=(18,8))\n",
    "sns.countplot(data['workClass'])\n",
    "plt.show()\n",
    "\n",
    "plt.figure(figsize=(20,8))\n",
    "sns.set_style(\"whitegrid\")\n",
    "sns.countplot(data['occupation'])\n",
    "plt.show()\n",
    "\n"
   ]
  },
  {
   "cell_type": "markdown",
   "id": "ee731283",
   "metadata": {},
   "source": [
    "### Replacing '?' with the most frequent values in the dataset will produce incorrect results, the best way to deal with this is using a dummy field i.e \"Unknown\" value to replace the '?' columns. This will not hamper the original nature of the data as well as handle the missing values.\n",
    "\n"
   ]
  },
  {
   "cell_type": "code",
   "execution_count": 11,
   "id": "d1624914",
   "metadata": {},
   "outputs": [],
   "source": [
    "data['workClass'].replace(' ?', 'Unknown', inplace=True)\n",
    "data['occupation'].replace(' ?', 'Unknown', inplace=True)"
   ]
  },
  {
   "cell_type": "code",
   "execution_count": 12,
   "id": "61c9ae59",
   "metadata": {
    "collapsed": true
   },
   "outputs": [
    {
     "name": "stderr",
     "output_type": "stream",
     "text": [
      "C:\\Users\\vchaudha\\anaconda3\\lib\\site-packages\\seaborn\\_decorators.py:36: FutureWarning: Pass the following variable as a keyword arg: x. From version 0.12, the only valid positional argument will be `data`, and passing other arguments without an explicit keyword will result in an error or misinterpretation.\n",
      "  warnings.warn(\n"
     ]
    },
    {
     "data": {
      "image/png": "[encoded data removed]",
      "text/plain": [
       "<Figure size 1800x800 with 1 Axes>"
      ]
     },
     "metadata": {},
     "output_type": "display_data"
    },
    {
     "name": "stderr",
     "output_type": "stream",
     "text": [
      "C:\\Users\\vchaudha\\anaconda3\\lib\\site-packages\\seaborn\\_decorators.py:36: FutureWarning: Pass the following variable as a keyword arg: x. From version 0.12, the only valid positional argument will be `data`, and passing other arguments without an explicit keyword will result in an error or misinterpretation.\n",
      "  warnings.warn(\n"
     ]
    },
    {
     "data": {
      "image/png": "[encoded data removed]",
      "text/plain": [
       "<Figure size 2400x800 with 1 Axes>"
      ]
     },
     "metadata": {},
     "output_type": "display_data"
    }
   ],
   "source": [
    "sns.set_style(\"whitegrid\")\n",
    "plt.figure(figsize=(18,8))\n",
    "sns.countplot(data['workClass'])\n",
    "plt.show()\n",
    "sns.set_style(\"whitegrid\")\n",
    "plt.figure(figsize=(24,8))\n",
    "sns.countplot(data['occupation'])\n",
    "plt.show()\n"
   ]
  },
  {
   "cell_type": "markdown",
   "id": "9a810c3c",
   "metadata": {},
   "source": [
    "# PART B : Dimentionality reduction\n",
    "\n",
    "#### 1.\tApply the concept of dimensionality reduction to this dataset to reduce the size of the data and computational time needed for #### You should do the analysis in two different ways: \n",
    "#### a.\tUsing the Singular Value Decomposition (SVD) method as implemented in class.\n",
    "#### b.\tUsing the Scikit-Learn library function PCA.\n",
    "#### In each case, show the eigenvectors and eigenvalues.\n",
    "#### 2.\tShow the Scree plot. \n",
    "#### 3.\tHow many dimensions of the dataset should be used to retain over 90% of the data variance? \n"
   ]
  },
  {
   "cell_type": "code",
   "execution_count": 13,
   "id": "bd4ae490",
   "metadata": {},
   "outputs": [
    {
     "name": "stdout",
     "output_type": "stream",
     "text": [
      "(32561, 8) (32561,)\n"
     ]
    }
   ],
   "source": [
    "# Dimenionality reduction\n",
    "\n",
    "\n",
    "# Assiging data to X and y\n",
    "X = data.drop(['Income'], axis = 1)\n",
    "y = data['Income']\n",
    "#X = X.to_numpy()\n",
    "#y = y.to_numpy()\n",
    "print(X.shape, y.shape)"
   ]
  },
  {
   "cell_type": "code",
   "execution_count": 14,
   "id": "fcab70a8",
   "metadata": {},
   "outputs": [
    {
     "name": "stdout",
     "output_type": "stream",
     "text": [
      "Intercept= -0.4034082550209086 \n",
      "\n",
      "Coeff = [ 0.00585691 -0.00209421  0.00825232 -0.02734924  0.00581058  0.02008612\n",
      "  0.12576683  0.00536175]\n"
     ]
    }
   ],
   "source": [
    "# Training data and splitting data\n",
    "X_train, X_test, y_train, y_test = train_test_split(X, y, test_size = 0.4, random_state = 49)\n",
    "lm = LinearRegression()\n",
    "lm.fit(X_train, y_train)\n",
    "print('Intercept=',lm.intercept_, '\\n\\nCoeff =', lm.coef_)\n"
   ]
  },
  {
   "cell_type": "code",
   "execution_count": 15,
   "id": "40559fa7",
   "metadata": {},
   "outputs": [],
   "source": [
    "#OLD APPROACH\n",
    "# A = U . Sigma . V^T\n",
    "#Where A is the real m x n matrix that we wish to decompose, U is an m x m matrix, \n",
    "#Sigma (often represented by the uppercase Greek letter Sigma) is an m x n diagonal matrix, \n",
    "#and V^T is the  transpose of an n x n matrix where T is a superscript.\n",
    "\n",
    "# U\n",
    "#X.shape\n",
    "#m x n = 32561 x 54 \n",
    "#X x X.T = m x m\n",
    "#U = np.dot(X, X.T)\n",
    "# sigma\n",
    "#Sigma = np.diag(X)\n",
    "#V^T\n",
    "#print(U.shape, Sigma.shape)\n",
    "#X_train.shape"
   ]
  },
  {
   "cell_type": "code",
   "execution_count": 16,
   "id": "bb29e90a",
   "metadata": {},
   "outputs": [],
   "source": [
    "#PCA by SCI-KIT LEARN\n",
    "\n",
    "pca = PCA(n_components = len(data.columns)-1)\n",
    "xpca = pca.fit_transform(X_train)\n"
   ]
  },
  {
   "cell_type": "code",
   "execution_count": 17,
   "id": "b4729be4",
   "metadata": {
    "collapsed": true
   },
   "outputs": [
    {
     "name": "stdout",
     "output_type": "stream",
     "text": [
      "Eigenvalues using PCA: \n",
      " \n",
      " [190.90321291 149.16970942  17.93374838  14.90923011   2.08626816\n",
      "   1.88380827   0.72325507   0.20475802]\n",
      "\n",
      "Eigenvectors using PCA:\n",
      "\n",
      "  [[ 9.44243120e-01  3.79619496e-03  4.40845291e-03 -3.39451967e-02\n",
      "   1.68826248e-03  2.31123586e-03  4.99099965e-03  3.27392281e-01]\n",
      " [-3.27834718e-01  1.53318840e-02  1.88081429e-02 -1.01604047e-02\n",
      "   3.37213105e-02  1.93066563e-03  7.24114296e-03  9.43736755e-01]\n",
      " [ 9.18849318e-03  9.18913445e-02 -1.49433791e-01  2.26545051e-03\n",
      "   9.83945515e-01  1.58187449e-03  7.31217691e-03 -3.05158245e-02]\n",
      " [-3.08315665e-03 -2.54156396e-02 -9.88425424e-01  1.13527814e-02\n",
      "  -1.47006823e-01 -2.92839396e-03  4.04347819e-03  2.43906325e-02]\n",
      " [ 2.46493606e-02 -5.02549301e-01  1.61957228e-02  8.59100248e-01\n",
      "   4.82907607e-02 -6.72578306e-02 -3.27740765e-02  2.43170406e-02]\n",
      " [ 1.50055746e-02  8.57749719e-01 -4.10487147e-03  5.07078636e-01\n",
      "  -8.20822164e-02  1.23352730e-02  2.21926812e-03 -2.90554705e-04]\n",
      " [ 1.87884509e-04  4.57158557e-02  1.27040153e-03 -5.31779604e-02\n",
      "  -1.93152901e-03 -9.96191123e-01 -5.17544364e-02  1.22882603e-03]\n",
      " [ 1.61240884e-03  1.67400076e-02 -5.54766822e-03 -2.45070956e-02\n",
      "   5.19824826e-03  5.39196145e-02 -9.98045716e-01  7.49667347e-03]]\n"
     ]
    }
   ],
   "source": [
    "xpca\n",
    "eigenvalues = pca.explained_variance_\n",
    "print(\"Eigenvalues using PCA: \\n \\n\", eigenvalues)\n",
    "eigenvectors = pca.components_\n",
    "print(\"\\nEigenvectors using PCA:\\n\\n \", eigenvectors)"
   ]
  },
  {
   "cell_type": "code",
   "execution_count": 18,
   "id": "37942a57",
   "metadata": {},
   "outputs": [],
   "source": [
    "# Singular value Decomposition\n",
    "\n",
    "U, s, VT = np.linalg.svd(X_train)\n"
   ]
  },
  {
   "cell_type": "code",
   "execution_count": 19,
   "id": "6f74e1ce",
   "metadata": {
    "collapsed": true
   },
   "outputs": [
    {
     "name": "stdout",
     "output_type": "stream",
     "text": [
      "Eigen-vectors: U=\n",
      "\n",
      " [[-6.70672073e-03  1.59082624e-03 -5.55428341e-03 ... -5.94206600e-03\n",
      "  -7.75903598e-03 -6.69415980e-03]\n",
      " [-5.59527327e-03  6.88269290e-03 -3.84316825e-03 ... -3.46925385e-03\n",
      "  -1.07080919e-02  8.22168192e-03]\n",
      " [-7.49229941e-03  5.91781899e-03 -3.31514337e-03 ...  2.93285306e-03\n",
      "  -8.55119460e-03  9.35926251e-03]\n",
      " ...\n",
      " [-6.37710034e-03  1.05892815e-03  1.65569202e-06 ...  9.99656322e-01\n",
      "   4.94216419e-05  1.32088944e-04]\n",
      " [-7.59247812e-03 -2.98886879e-03 -2.13742485e-03 ...  5.27766800e-05\n",
      "   9.99452190e-01  1.96839947e-04]\n",
      " [-6.81115121e-03  1.17594054e-03 -6.25180769e-03 ...  1.29242104e-04\n",
      "   2.04301424e-04  9.99543753e-01]] (19536, 19536) \n",
      "\n",
      "Eigen-values: s=\n",
      "\n",
      " [8226.37672333 1757.6521431   660.47688874  580.30696959  246.55423824\n",
      "  199.52041964  136.46277853   63.28167255] (8,)\n",
      "Eigen-vectors: VT= (8, 8) \n",
      "\n"
     ]
    }
   ],
   "source": [
    "print('Eigen-vectors: U=\\n\\n', U, U.shape,'\\n')\n",
    "print('Eigen-values: s=\\n\\n', s, s.shape)\n",
    "print('Eigen-vectors: VT=', VT.shape,'\\n')\n"
   ]
  },
  {
   "cell_type": "code",
   "execution_count": 20,
   "id": "ba4a687d",
   "metadata": {
    "collapsed": true
   },
   "outputs": [
    {
     "name": "stdout",
     "output_type": "stream",
     "text": [
      "Ur=\n",
      " [[ 0.00670672 -0.00159083]\n",
      " [ 0.00559527 -0.00688269]\n",
      " [ 0.0074923  -0.00591782]\n",
      " ...\n",
      " [ 0.0063771  -0.00105893]\n",
      " [ 0.00759248  0.00298887]\n",
      " [ 0.00681115 -0.00117594]]\n",
      "\n",
      "Transformed data :\n",
      "\n",
      "  [[ 5560.07089131  1279.41782227]\n",
      " [  531.48433423   -32.34238869]\n",
      " [ 1410.25841005   -61.66712119]\n",
      " [  341.63612466   -27.57719895]\n",
      " [  906.25644788   -72.7171017 ]\n",
      " [  500.30856555   -13.11839877]\n",
      " [   94.04395885    -7.99408494]\n",
      " [ 5769.7844309  -1200.54069139]]\n"
     ]
    }
   ],
   "source": [
    "#Transforming the data\n",
    "Ur = -U[:, 0:2]\n",
    "print('Ur=\\n', Ur)\n",
    "Xr = np.dot(X_train.T, Ur)\n",
    "print(\"\\nTransformed data :\\n\\n \", Xr)\n",
    "\n"
   ]
  },
  {
   "cell_type": "code",
   "execution_count": 21,
   "id": "c08656b2",
   "metadata": {
    "collapsed": true
   },
   "outputs": [
    {
     "data": {
      "image/png": "[encoded data removed]",
      "text/plain": [
       "<Figure size 640x480 with 1 Axes>"
      ]
     },
     "metadata": {},
     "output_type": "display_data"
    },
    {
     "name": "stdout",
     "output_type": "stream",
     "text": [
      "sv = [0.         0.5052836  0.90010675 0.94757389 0.98703571 0.99255766\n",
      " 0.99754373 0.99945805 1.        ]\n"
     ]
    },
    {
     "data": {
      "image/png": "[encoded data removed]",
      "text/plain": [
       "<Figure size 640x480 with 1 Axes>"
      ]
     },
     "metadata": {},
     "output_type": "display_data"
    },
    {
     "name": "stdout",
     "output_type": "stream",
     "text": [
      "pca = [0.         0.69300243 0.84106971 0.89670928 0.94559522 0.96636532\n",
      " 0.98317322 0.99466906 1.        ]\n"
     ]
    }
   ],
   "source": [
    "# The Scree plot\n",
    "\n",
    "\n",
    "sv = np.cumsum(pca.explained_variance_)/sum(pca.explained_variance_)\n",
    "# np.insert(sv, 0, 0) - insert the value 0 in position 0 of array sv\n",
    "sv = np.insert(sv, 0, 0)\n",
    "\n",
    "\n",
    "plt.step(list(range(len(sv))), sv)\n",
    "plt.show()\n",
    "print('sv =', sv)\n",
    "\n",
    "Sv = np.cumsum(s)/sum(s)\n",
    "# np.insert(sv, 0, 0) - insert the value 0 in position 0 of array sv\n",
    "Sv = np.insert(Sv, 0, 0)\n",
    "plt.step(list(range(len(Sv))), Sv)\n",
    "plt.grid()\n",
    "plt.show()\n",
    "\n",
    "print('pca =', Sv)\n"
   ]
  },
  {
   "cell_type": "code",
   "execution_count": 22,
   "id": "49fcb27f",
   "metadata": {
    "collapsed": true
   },
   "outputs": [
    {
     "data": {
      "text/plain": [
       "3"
      ]
     },
     "execution_count": 22,
     "metadata": {},
     "output_type": "execute_result"
    }
   ],
   "source": [
    "#How many dimensions of the dataset should be used to retain over 90% of the data variance? \n",
    "k = np.argmax(sv >= 0.9) + 1\n",
    "k"
   ]
  },
  {
   "cell_type": "markdown",
   "id": "90624bb3",
   "metadata": {},
   "source": [
    "#### Hence, number of dimensions of the dataset should be used to retain over 90% of the data variance is : 3"
   ]
  },
  {
   "cell_type": "markdown",
   "id": "0e0bc14a",
   "metadata": {},
   "source": [
    "# Part C: Model Training\n",
    "#### a.\tUse the multi-layer Perceptron to build a predictive neural network model. Use a suitable number of neurons and hidden layers.  Show the confusion matrix and the classification report when you use the trained network on the test dataset.\n",
    "\n",
    "#### b.\tUse Logistic Regression from the Scikit library to create a model. Show the confusion matrix and the classification report when you use the trained network on the test dataset.\n",
    "\n",
    "#### c.\tSame as question b, using the Naïve Bayes algorithm. \n",
    "\n",
    "#### d.\tUse the K-Means clustering algorithm on the dataset without including the income column. What is the accuracy obtained in predicting the income.\n"
   ]
  },
  {
   "cell_type": "code",
   "execution_count": 23,
   "id": "233e5bef",
   "metadata": {
    "collapsed": true
   },
   "outputs": [
    {
     "data": {
      "text/plain": [
       "MLPClassifier(hidden_layer_sizes=(100, 50, 50, 2), max_iter=300, random_state=1)"
      ]
     },
     "execution_count": 23,
     "metadata": {},
     "output_type": "execute_result"
    }
   ],
   "source": [
    "# a.Use the multi-layer Perceptron to build a predictive neural network model.\n",
    "#Use a suitable number of neurons and hidden layers.  Show the confusion matrix and the classification report when you use the trained network on the test dataset.\n",
    "\n",
    "mlp = MLPClassifier(hidden_layer_sizes=(100,50,50, 2), activation='relu',solver='adam',random_state=1, max_iter=300)\n",
    "mlp.fit(X_train, y_train)\n"
   ]
  },
  {
   "cell_type": "code",
   "execution_count": 24,
   "id": "d0438745",
   "metadata": {},
   "outputs": [
    {
     "name": "stdout",
     "output_type": "stream",
     "text": [
      "81.44337811900192 %\n"
     ]
    },
    {
     "data": {
      "text/plain": [
       "<AxesSubplot:>"
      ]
     },
     "execution_count": 24,
     "metadata": {},
     "output_type": "execute_result"
    },
    {
     "data": {
      "image/png": "[encoded data removed]",
      "text/plain": [
       "<Figure size 640x480 with 2 Axes>"
      ]
     },
     "metadata": {},
     "output_type": "display_data"
    }
   ],
   "source": [
    "ypred = mlp.predict(X_test)\n",
    "print(mlp.score(X_test, y_test)*100, \"%\")\n",
    "cm = confusion_matrix(y_test, ypred)\n",
    "sns.heatmap(cm, annot=True, fmt ='.0f')\n"
   ]
  },
  {
   "cell_type": "code",
   "execution_count": 25,
   "id": "f76e29db",
   "metadata": {
    "collapsed": true
   },
   "outputs": [
    {
     "data": {
      "text/plain": [
       "LogisticRegression()"
      ]
     },
     "execution_count": 25,
     "metadata": {},
     "output_type": "execute_result"
    }
   ],
   "source": [
    "# b. Use Logistic Regression from the Scikit library to create a model. \n",
    "#Show the confusion matrix and the classification report when you use the trained network on the test dataset.\n",
    "\n",
    "lr = LogisticRegression()\n",
    "lr.fit(X_train, y_train)\n",
    "\n"
   ]
  },
  {
   "cell_type": "code",
   "execution_count": 26,
   "id": "a2e2b4a3",
   "metadata": {
    "collapsed": true
   },
   "outputs": [
    {
     "name": "stdout",
     "output_type": "stream",
     "text": [
      "75.47792706333973 %\n",
      "Confusion Matrix:\n",
      " [[9262  592]\n",
      " [2602  569]]\n"
     ]
    },
    {
     "data": {
      "text/plain": [
       "<AxesSubplot:>"
      ]
     },
     "execution_count": 26,
     "metadata": {},
     "output_type": "execute_result"
    },
    {
     "data": {
      "image/png": "[encoded data removed]",
      "text/plain": [
       "<Figure size 640x480 with 2 Axes>"
      ]
     },
     "metadata": {},
     "output_type": "display_data"
    }
   ],
   "source": [
    "logpred = lr.predict(X_test)\n",
    "logcm = confusion_matrix(y_test, logpred)\n",
    "print(accuracy_score(y_test, logpred)*100, \"%\")\n",
    "print(\"Confusion Matrix:\\n\", logcm)\n",
    "sns.heatmap(logcm, annot=True, fmt ='.0f')\n"
   ]
  },
  {
   "cell_type": "code",
   "execution_count": 27,
   "id": "6a6b796a",
   "metadata": {},
   "outputs": [
    {
     "data": {
      "text/plain": [
       "GaussianNB()"
      ]
     },
     "execution_count": 27,
     "metadata": {},
     "output_type": "execute_result"
    }
   ],
   "source": [
    "#c.Same as question b, using the Naïve Bayes algorithm. \n",
    "gnb = GaussianNB()\n",
    "gnb.fit(X_test, y_test)\n"
   ]
  },
  {
   "cell_type": "code",
   "execution_count": 28,
   "id": "6ed6bf46",
   "metadata": {
    "collapsed": true
   },
   "outputs": [
    {
     "name": "stdout",
     "output_type": "stream",
     "text": [
      "76.73704414587333 %\n",
      "Confusion Matrix:\n",
      "\n"
     ]
    },
    {
     "data": {
      "text/plain": [
       "<AxesSubplot:>"
      ]
     },
     "execution_count": 28,
     "metadata": {},
     "output_type": "execute_result"
    },
    {
     "data": {
      "image/png": "[encoded data removed]",
      "text/plain": [
       "<Figure size 640x480 with 2 Axes>"
      ]
     },
     "metadata": {},
     "output_type": "display_data"
    }
   ],
   "source": [
    "gnbpred = gnb.predict(X_test)\n",
    "print(accuracy_score(y_test, gnbpred)*100, \"%\")\n",
    "print(\"Confusion Matrix:\\n\")\n",
    "gnbcm = confusion_matrix(y_test, gnbpred)\n",
    "sns.heatmap(gnbcm, annot=True, fmt ='.0f')"
   ]
  },
  {
   "cell_type": "code",
   "execution_count": 29,
   "id": "6b61223e",
   "metadata": {},
   "outputs": [],
   "source": [
    "#d.Use the K-Means clustering algorithm on the dataset without including the income column. \n",
    "#What is the accuracy obtained in predicting the income.\n",
    "\n",
    "Kmean = KMeans(n_clusters=2)\n",
    "label = Kmean.fit(X_train)"
   ]
  },
  {
   "cell_type": "code",
   "execution_count": 30,
   "id": "a90fd57e",
   "metadata": {},
   "outputs": [],
   "source": [
    "kpred = Kmean.predict(X_test)"
   ]
  },
  {
   "cell_type": "code",
   "execution_count": 31,
   "id": "aacd7cf8",
   "metadata": {
    "collapsed": true
   },
   "outputs": [
    {
     "name": "stdout",
     "output_type": "stream",
     "text": [
      "Accuracy of Kmeans clustering:  63.18618042226487 %\n"
     ]
    }
   ],
   "source": [
    "from sklearn.metrics import accuracy_score\n",
    "\n",
    "print(\"Accuracy of Kmeans clustering: \", accuracy_score(y_test, kpred)*100,\"%\")"
   ]
  },
  {
   "cell_type": "code",
   "execution_count": null,
   "id": "a5be17d2",
   "metadata": {},
   "outputs": [],
   "source": []
  },
  {
   "cell_type": "code",
   "execution_count": null,
   "id": "7f97069e",
   "metadata": {},
   "outputs": [],
   "source": []
  },
  {
   "cell_type": "code",
   "execution_count": null,
   "id": "a107f497",
   "metadata": {},
   "outputs": [],
   "source": []
  }
 ],
 "metadata": {
  "kernelspec": {
   "display_name": "Python 3 (ipykernel)",
   "language": "python",
   "name": "python3"
  },
  "language_info": {
   "codemirror_mode": {
    "name": "ipython",
    "version": 3
   },
   "file_extension": ".py",
   "mimetype": "text/x-python",
   "name": "python",
   "nbconvert_exporter": "python",
   "pygments_lexer": "ipython3",
   "version": "3.9.13"
  }
 },
 "nbformat": 4,
 "nbformat_minor": 5
}
